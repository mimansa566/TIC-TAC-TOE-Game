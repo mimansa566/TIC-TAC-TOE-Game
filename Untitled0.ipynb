{
  "nbformat": 4,
  "nbformat_minor": 0,
  "metadata": {
    "colab": {
      "provenance": [],
      "authorship_tag": "ABX9TyOS6vwsfC9ilqNGepx0HcMX",
      "include_colab_link": true
    },
    "kernelspec": {
      "name": "python3",
      "display_name": "Python 3"
    },
    "language_info": {
      "name": "python"
    }
  },
  "cells": [
    {
      "cell_type": "markdown",
      "metadata": {
        "id": "view-in-github",
        "colab_type": "text"
      },
      "source": [
        "<a href=\"https://colab.research.google.com/github/mimansa566/TIC-TAC-TOE-Game/blob/main/Untitled0.ipynb\" target=\"_parent\"><img src=\"https://colab.research.google.com/assets/colab-badge.svg\" alt=\"Open In Colab\"/></a>"
      ]
    },
    {
      "cell_type": "code",
      "execution_count": null,
      "metadata": {
        "id": "bwItQfWkPl7H"
      },
      "outputs": [],
      "source": []
    },
    {
      "cell_type": "markdown",
      "source": [
        "#python"
      ],
      "metadata": {
        "id": "7jg8UkFKRkWj"
      }
    },
    {
      "cell_type": "code",
      "source": [
        "print(\"machine learning\")"
      ],
      "metadata": {
        "colab": {
          "base_uri": "https://localhost:8080/"
        },
        "id": "yxb2pb7wQ9NK",
        "outputId": "3ddc8b96-19f8-407b-ea61-faec47768141"
      },
      "execution_count": 1,
      "outputs": [
        {
          "output_type": "stream",
          "name": "stdout",
          "text": [
            "machine learning\n"
          ]
        }
      ]
    },
    {
      "cell_type": "code",
      "source": [
        "print(\"machine learning\"+ \"projects\")"
      ],
      "metadata": {
        "colab": {
          "base_uri": "https://localhost:8080/"
        },
        "id": "Eh-3JAg5RG3H",
        "outputId": "6f55e460-9178-4548-fa2e-f30e712b63c4"
      },
      "execution_count": 2,
      "outputs": [
        {
          "output_type": "stream",
          "name": "stdout",
          "text": [
            "machine learningprojects\n"
          ]
        }
      ]
    },
    {
      "cell_type": "code",
      "source": [
        "print(8)"
      ],
      "metadata": {
        "colab": {
          "base_uri": "https://localhost:8080/"
        },
        "id": "YUqXg5ZkRPLg",
        "outputId": "1b8c886d-a692-4514-fc4b-0ce223e3a886"
      },
      "execution_count": 3,
      "outputs": [
        {
          "output_type": "stream",
          "name": "stdout",
          "text": [
            "8\n"
          ]
        }
      ]
    },
    {
      "cell_type": "code",
      "source": [
        "print(8+3)"
      ],
      "metadata": {
        "colab": {
          "base_uri": "https://localhost:8080/"
        },
        "id": "xlahPYu6RTcu",
        "outputId": "9ff1e6f1-29f9-44c7-b49a-06d255154675"
      },
      "execution_count": 4,
      "outputs": [
        {
          "output_type": "stream",
          "name": "stdout",
          "text": [
            "11\n"
          ]
        }
      ]
    },
    {
      "cell_type": "markdown",
      "source": [
        "#python basic"
      ],
      "metadata": {
        "id": "tyTEIuE6RX_N"
      }
    },
    {
      "cell_type": "code",
      "source": [
        "number_1=int(input(\"enter the first no :\"))\n",
        "print(number_1)\n",
        "number_2=int(input(\"enter the second no :\"))\n",
        "sum=number_1 +number_2\n",
        "print(sum)"
      ],
      "metadata": {
        "colab": {
          "base_uri": "https://localhost:8080/"
        },
        "id": "tvgOwRSgReUk",
        "outputId": "ebec675d-2557-4e13-9fe8-862a3d791db5"
      },
      "execution_count": 8,
      "outputs": [
        {
          "output_type": "stream",
          "name": "stdout",
          "text": [
            "enter the first no :1\n",
            "1\n",
            "enter the second no :2\n",
            "3\n"
          ]
        }
      ]
    }
  ]
}